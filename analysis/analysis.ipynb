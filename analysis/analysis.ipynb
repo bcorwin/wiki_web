{
 "cells": [
  {
   "cell_type": "code",
   "execution_count": 1,
   "metadata": {},
   "outputs": [],
   "source": [
    "import pandas as pd\n",
    "import networkx as nx"
   ]
  },
  {
   "cell_type": "code",
   "execution_count": 2,
   "metadata": {},
   "outputs": [],
   "source": [
    "PHILOSOPHY = \"https://en.wikipedia.org/wiki/Philosophy\"\n",
    "NODE_TYPE_COLORS = {\n",
    "    \"seed\": \"green\",\n",
    "    \"page\": \"blue\",\n",
    "    \"error\": \"orange\",\n",
    "    \"philosophy\": \"red\",\n",
    "}"
   ]
  },
  {
   "cell_type": "code",
   "execution_count": 3,
   "metadata": {},
   "outputs": [],
   "source": [
    "edges = pd.read_csv(\n",
    "    \"../outputs/wiki_web.tsv\",\n",
    "    delimiter=\"\\t\",\n",
    "    header=None,\n",
    "    names=[\"source\", \"target\"]\n",
    ")\n",
    "\n",
    "seeds = pd.read_table(\n",
    "    \"../outputs/seeds.txt\",\n",
    "    delimiter=\"\\t\",\n",
    "    header=None,\n",
    "    names=[\"url\"]\n",
    ").assign(node_type=\"seed\")\n",
    "node_types = pd.concat([\n",
    "    seeds,\n",
    "    pd.DataFrame([{\"url\": PHILOSOPHY, \"node_type\": \"philosophy\"}])\n",
    "], ignore_index=True).set_index(\"url\")[\"node_type\"].to_dict()\n",
    "\n",
    "for error_name in edges.target[edges.target.str.contains(\"ERROR\")].values:\n",
    "    node_types[error_name] = \"error\"\n"
   ]
  },
  {
   "cell_type": "code",
   "execution_count": 4,
   "metadata": {},
   "outputs": [],
   "source": [
    "nodes = (\n",
    "    pd.concat([pd.Series(PHILOSOPHY), edges.source, edges.target])\n",
    "    .drop_duplicates(ignore_index=True)\n",
    "    .to_frame(\"url\")\n",
    "    .assign(\n",
    "        node_type = lambda df: df.url.map(node_types).fillna(\"page\"),\n",
    "        name = lambda df: df.url.str.split(\"/\").str[-1]\n",
    "    )\n",
    ")\n",
    "url_to_node_id = (\n",
    "    nodes\n",
    "    .reset_index()\n",
    "    .set_index(\"url\")\n",
    "    [\"index\"]\n",
    "    .to_dict()\n",
    ")\n",
    "\n",
    "seed_ids = nodes[nodes.node_type == \"seed\"].index.values.tolist()\n",
    "error_ids = nodes[nodes.node_type == \"error\"].index.values.tolist()\n",
    "\n",
    "edges[\"source_id\"] = edges.source.map(url_to_node_id)\n",
    "edges[\"target_id\"] = edges.target.map(url_to_node_id)"
   ]
  },
  {
   "cell_type": "code",
   "execution_count": 34,
   "metadata": {},
   "outputs": [
    {
     "name": "stdout",
     "output_type": "stream",
     "text": [
      "| Node type   |   Count |\n",
      "|:------------|--------:|\n",
      "| page        |    2413 |\n",
      "| seed        |    1000 |\n",
      "| error       |       3 |\n",
      "| philosophy  |       1 |\n"
     ]
    }
   ],
   "source": [
    "print(nodes.node_type.rename(\"Node type\").value_counts().rename(\"Count\").to_markdown())"
   ]
  },
  {
   "cell_type": "code",
   "execution_count": 5,
   "metadata": {},
   "outputs": [],
   "source": [
    "G = nx.DiGraph()\n",
    "G.add_nodes_from([(i,dict(d)) for i,d in nodes.iterrows()])\n",
    "G.add_edges_from(edges[[\"source_id\", \"target_id\"]].values.tolist())"
   ]
  },
  {
   "cell_type": "code",
   "execution_count": 6,
   "metadata": {},
   "outputs": [],
   "source": [
    "shortest_path_lengths = list(nx.all_pairs_shortest_path_length(G))"
   ]
  },
  {
   "cell_type": "code",
   "execution_count": 25,
   "metadata": {},
   "outputs": [
    {
     "name": "stdout",
     "output_type": "stream",
     "text": [
      "Seeds that lead to an error: 0.7%\n",
      "Average # clicks: 2.3\n",
      "| Error                                |   Number of seeds |   Average clicks to error |   % of seeds |\n",
      "|:-------------------------------------|------------------:|--------------------------:|-------------:|\n",
      "| ERROR: Unmatched open parentheses.   |                 4 |                       2.8 |         57.1 |\n",
      "| ERROR: Unmatched closed parentheses. |                 2 |                       2   |         28.6 |\n",
      "| ERROR: No valid link found.          |                 1 |                       1   |         14.3 |\n"
     ]
    }
   ],
   "source": [
    "def get_length_by_id(node_ids, node_dict):\n",
    "    for id in node_ids:\n",
    "        if id in node_dict:\n",
    "            return (id, node_dict[id])\n",
    "    return (None, None)\n",
    "\n",
    "clicks_to_errors = [(n, *get_length_by_id(error_ids, l)) for n, l in shortest_path_lengths if n in seed_ids]\n",
    "clicks_to_errors = (\n",
    "    pd.DataFrame(clicks_to_errors, columns=[\"seed\", \"error\", \"clicks\"])\n",
    "    .merge(nodes.name, left_on=\"error\", right_index=True, how=\"left\")\n",
    "    .rename(columns={\"name\": \"Error\"})\n",
    ")\n",
    "\n",
    "print(f\"Seeds that lead to an error: {clicks_to_errors.clicks.notna().mean():.1%}\")\n",
    "print(f\"Average # clicks: {clicks_to_errors.clicks.mean():.1f}\")\n",
    "\n",
    "res = (\n",
    "    clicks_to_errors\n",
    "    .groupby(\"Error\")\n",
    "    [\"clicks\"]\n",
    "    .agg(\n",
    "        **{\n",
    "            \"Number of seeds\": \"count\",\n",
    "            \"Average clicks to error\": \"mean\"   \n",
    "        }\n",
    "    )\n",
    "    .assign(\n",
    "        **{\n",
    "            \"% of seeds\": lambda df: 100*df[\"Number of seeds\"] / df[\"Number of seeds\"].sum()\n",
    "        }\n",
    "    )\n",
    "    .round(1)\n",
    "    .sort_values(\"Number of seeds\", ascending=False)\n",
    ").to_markdown()\n",
    "print(res)"
   ]
  },
  {
   "cell_type": "code",
   "execution_count": 18,
   "metadata": {},
   "outputs": [
    {
     "name": "stdout",
     "output_type": "stream",
     "text": [
      "Seeds that lead to Philosophy: 43.9%\n",
      "Average # clicks: 13.4\n"
     ]
    },
    {
     "data": {
      "image/png": "[encoded data removed]",
      "text/plain": [
       "<Figure size 640x480 with 1 Axes>"
      ]
     },
     "metadata": {},
     "output_type": "display_data"
    }
   ],
   "source": [
    "clicks_to_philosphy = {n: l.get(0) for n, l in shortest_path_lengths if n in seed_ids}\n",
    "clicks_to_philosphy = pd.Series(clicks_to_philosphy, name=\"clicks_to_philosophy\")\n",
    "\n",
    "clicks_to_philosphy.plot.hist()\n",
    "print(f\"Seeds that lead to Philosophy: {clicks_to_philosphy.notna().mean():.1%}\")\n",
    "print(f\"Average # clicks: {clicks_to_philosphy.mean():.1f}\")"
   ]
  },
  {
   "cell_type": "code",
   "execution_count": 9,
   "metadata": {},
   "outputs": [],
   "source": [
    "for philosophy_cycle in nx.simple_cycles(G):\n",
    "    if 0 in philosophy_cycle:\n",
    "        philosophy_cycle\n",
    "        break"
   ]
  },
  {
   "cell_type": "code",
   "execution_count": 10,
   "metadata": {},
   "outputs": [
    {
     "data": {
      "image/png": "[encoded data removed]",
      "text/plain": [
       "<Figure size 640x480 with 1 Axes>"
      ]
     },
     "metadata": {},
     "output_type": "display_data"
    }
   ],
   "source": [
    "sg = nx.subgraph_view(G, filter_node=lambda n: n in philosophy_cycle)\n",
    "\n",
    "pos = nx.circular_layout(sg)\n",
    "# Rotate -90\n",
    "pos = {k: (-y,x) for k,(x,y) in pos.items()}\n",
    "\n",
    "nx.draw(\n",
    "    sg,\n",
    "    pos=pos,\n",
    "    node_color=\"white\",\n",
    "    labels={node: sg.nodes[node][\"name\"] for node in sg.nodes},\n",
    "    with_labels=True,\n",
    ")"
   ]
  },
  {
   "cell_type": "code",
   "execution_count": 24,
   "metadata": {},
   "outputs": [
    {
     "name": "stdout",
     "output_type": "stream",
     "text": [
      "| Entry to the Philosophy cycle             |   Number of seeds |   Average clicks to entry |   % of seeds |\n",
      "|:------------------------------------------|------------------:|--------------------------:|-------------:|\n",
      "| https://en.wikipedia.org/wiki/Philosophy  |               319 |                      13.6 |         72.7 |\n",
      "| https://en.wikipedia.org/wiki/Mathematics |                31 |                       8.2 |          7.1 |\n",
      "| https://en.wikipedia.org/wiki/Reason      |                26 |                       7.8 |          5.9 |\n",
      "| https://en.wikipedia.org/wiki/Awareness   |                22 |                       7.5 |          5   |\n",
      "| https://en.wikipedia.org/wiki/Reality     |                18 |                       5.4 |          4.1 |\n",
      "| https://en.wikipedia.org/wiki/Existence   |                17 |                       8.4 |          3.9 |\n",
      "| https://en.wikipedia.org/wiki/Geometry    |                 6 |                       7   |          1.4 |\n"
     ]
    }
   ],
   "source": [
    "\n",
    "clicks_to_philosphy_cycle = {}\n",
    "for node_id, path_lengths in shortest_path_lengths:\n",
    "    if node_id not in seed_ids:\n",
    "        continue\n",
    "    \n",
    "    min_distance = float(\"Inf\")\n",
    "    entry_node_id = None\n",
    "    for cycle_node_id, cycle_path_length in path_lengths.items():\n",
    "        if cycle_node_id not in philosophy_cycle:\n",
    "            continue\n",
    "        if cycle_path_length < min_distance:\n",
    "            min_distance = cycle_path_length\n",
    "            entry_node_id = cycle_node_id\n",
    "        clicks_to_philosphy_cycle[node_id] = {\"entry\": entry_node_id, \"distance\": min_distance}\n",
    "clicks_to_philosphy_cycle = (\n",
    "    pd.DataFrame.from_dict(clicks_to_philosphy_cycle, orient=\"index\")\n",
    "    .assign(entry = lambda df: df.entry.map(nodes.url.to_dict()))\n",
    ")\n",
    "\n",
    "res = (\n",
    "    clicks_to_philosphy_cycle\n",
    "    .rename(columns={\"entry\": \"Entry to the Philosophy cycle\"})\n",
    "    .groupby(\"Entry to the Philosophy cycle\")\n",
    "    [\"distance\"]\n",
    "    .agg(\n",
    "        **{\n",
    "            \"Number of seeds\": \"count\",\n",
    "            \"Average clicks to entry\": \"mean\"   \n",
    "        }\n",
    "    )\n",
    "    .assign(\n",
    "        **{\n",
    "            \"% of seeds\": lambda df: 100*df[\"Number of seeds\"] / df[\"Number of seeds\"].sum()\n",
    "        }\n",
    "    )\n",
    "    .round(1)\n",
    "    .sort_values(\"Number of seeds\", ascending=False)\n",
    ").to_markdown()\n",
    "print(res)"
   ]
  },
  {
   "cell_type": "code",
   "execution_count": null,
   "metadata": {},
   "outputs": [],
   "source": []
  }
 ],
 "metadata": {
  "kernelspec": {
   "display_name": "Python 3",
   "language": "python",
   "name": "python3"
  },
  "language_info": {
   "codemirror_mode": {
    "name": "ipython",
    "version": 3
   },
   "file_extension": ".py",
   "mimetype": "text/x-python",
   "name": "python",
   "nbconvert_exporter": "python",
   "pygments_lexer": "ipython3",
   "version": "3.12.1"
  }
 },
 "nbformat": 4,
 "nbformat_minor": 2
}
